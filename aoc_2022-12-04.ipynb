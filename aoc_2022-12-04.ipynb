{
 "cells": [
  {
   "cell_type": "code",
   "execution_count": 1,
   "id": "3469b244",
   "metadata": {},
   "outputs": [
    {
     "data": {
      "text/plain": [
       "['input_2022-12-03.txt',\n",
       " 'input_2022-12-04.txt',\n",
       " 'input_2022_12_02.txt',\n",
       " 'input_2022_12_01.txt']"
      ]
     },
     "execution_count": 1,
     "metadata": {},
     "output_type": "execute_result"
    }
   ],
   "source": [
    "import os\n",
    "os.listdir('data')"
   ]
  },
  {
   "cell_type": "code",
   "execution_count": 1,
   "id": "c57da1e1",
   "metadata": {},
   "outputs": [
    {
     "data": {
      "text/plain": [
       "array([[[60, 60],\n",
       "        [45, 60]],\n",
       "\n",
       "       [[36, 57],\n",
       "        [ 7, 36]],\n",
       "\n",
       "       [[ 2, 32],\n",
       "        [ 1, 55]],\n",
       "\n",
       "       [[ 1, 30],\n",
       "        [ 6, 75]],\n",
       "\n",
       "       [[12, 13],\n",
       "        [13, 90]]])"
      ]
     },
     "execution_count": 1,
     "metadata": {},
     "output_type": "execute_result"
    }
   ],
   "source": [
    "with open('data/input_2022-12-04.txt') as f:\n",
    "    text = [line.strip('\\n').split(',') for line in f.readlines()]\n",
    "    \n",
    "import numpy as np\n",
    "\n",
    "assignments = np.asarray([[y.split('-') for y in x] for x in text], dtype = int)\n",
    "\n",
    "assignments.shape\n",
    "assignments[0:5,:,:]"
   ]
  },
  {
   "cell_type": "code",
   "execution_count": 45,
   "id": "71a410c3",
   "metadata": {},
   "outputs": [
    {
     "name": "stdout",
     "output_type": "stream",
     "text": [
      "[[60 60]\n",
      " [45 60]]\n",
      "First 60 60\n",
      "Second: 45 60\n",
      "1\n",
      "[[36 57]\n",
      " [ 7 36]]\n",
      "First 36 57\n",
      "Second: 7 36\n",
      "0\n",
      "[[ 2 32]\n",
      " [ 1 55]]\n",
      "First 2 32\n",
      "Second: 1 55\n",
      "1\n",
      "[[ 1 30]\n",
      " [ 6 75]]\n",
      "First 1 30\n",
      "Second: 6 75\n",
      "0\n",
      "[[12 13]\n",
      " [13 90]]\n",
      "First 12 13\n",
      "Second: 13 90\n",
      "0\n"
     ]
    }
   ],
   "source": [
    "for row in assignments[0:5]:\n",
    "    \n",
    "    print(row)\n",
    "   # print(row[0][0])\n",
    "    print('First', row[0,0], row[0, 1])\n",
    "    print('Second:', row[1,0], row[1, 1])\n",
    "    \n",
    "    if (row[0][0] <= row[1][0]) & (row[0][1] >= row[1][1]):\n",
    "        print(1)\n",
    "    elif (row[1][0] <= row[0][0]) & (row[1][1] >= row[0][1]):\n",
    "        print(1)\n",
    "    else:\n",
    "        print(0)"
   ]
  },
  {
   "cell_type": "markdown",
   "id": "e307d60a",
   "metadata": {},
   "source": [
    "#### Function to Check Overlap"
   ]
  },
  {
   "cell_type": "code",
   "execution_count": 44,
   "id": "34bd0fc8",
   "metadata": {},
   "outputs": [
    {
     "name": "stdout",
     "output_type": "stream",
     "text": [
      "1\n",
      "1\n",
      "0\n",
      "0\n",
      "0\n",
      "0\n"
     ]
    }
   ],
   "source": [
    "def check_overlap(a, b):\n",
    "    \n",
    "        \n",
    "    if (a[0] <= b[0]) & (a[1] >= b[1]):\n",
    "        return 1\n",
    "    elif (b[0] <= a[0]) & (b[1] >= a[1]):\n",
    "        return 1\n",
    "    else:\n",
    "        return 0\n",
    "    \n",
    "    \n",
    "print(check_overlap([1, 10], [5, 5]))\n",
    "print(check_overlap([3, 4], [2, 5]))\n",
    "print(check_overlap([1, 4], [2, 5]))\n",
    "print(check_overlap([3, 7], [2, 5]))\n",
    "print(check_overlap([3, 7], [5, 10]))\n",
    "print(check_overlap([3, 7], [1, 6]))"
   ]
  },
  {
   "cell_type": "code",
   "execution_count": 49,
   "id": "c119fdb2",
   "metadata": {},
   "outputs": [
    {
     "data": {
      "text/plain": [
       "[1, 0, 1, 0, 0]"
      ]
     },
     "execution_count": 49,
     "metadata": {},
     "output_type": "execute_result"
    }
   ],
   "source": [
    "check = [check_overlap(pairs[0], pairs[1]) for pairs in assignments]\n",
    "check[0:5]"
   ]
  },
  {
   "cell_type": "code",
   "execution_count": 50,
   "id": "e4a3a61c",
   "metadata": {},
   "outputs": [
    {
     "data": {
      "text/plain": [
       "431"
      ]
     },
     "execution_count": 50,
     "metadata": {},
     "output_type": "execute_result"
    }
   ],
   "source": [
    "np.sum(check)"
   ]
  },
  {
   "cell_type": "markdown",
   "id": "1f1561ec",
   "metadata": {},
   "source": [
    "## Part 2:"
   ]
  },
  {
   "cell_type": "code",
   "execution_count": 54,
   "id": "5e400df0",
   "metadata": {},
   "outputs": [
    {
     "name": "stdout",
     "output_type": "stream",
     "text": [
      "[[60 60]\n",
      " [45 60]]\n",
      "First 60 60\n",
      "Second: 45 60\n",
      "1\n",
      "[[36 57]\n",
      " [ 7 36]]\n",
      "First 36 57\n",
      "Second: 7 36\n",
      "1\n",
      "[[ 2 32]\n",
      " [ 1 55]]\n",
      "First 2 32\n",
      "Second: 1 55\n",
      "1\n",
      "[[ 1 30]\n",
      " [ 6 75]]\n",
      "First 1 30\n",
      "Second: 6 75\n",
      "1\n",
      "[[12 13]\n",
      " [13 90]]\n",
      "First 12 13\n",
      "Second: 13 90\n",
      "1\n",
      "[[48 98]\n",
      " [48 98]]\n",
      "First 48 98\n",
      "Second: 48 98\n",
      "1\n",
      "[[29 29]\n",
      " [29 51]]\n",
      "First 29 29\n",
      "Second: 29 51\n",
      "1\n",
      "[[ 5  8]\n",
      " [ 7 92]]\n",
      "First 5 8\n",
      "Second: 7 92\n",
      "1\n",
      "[[39 91]\n",
      " [38 90]]\n",
      "First 39 91\n",
      "Second: 38 90\n",
      "1\n",
      "[[ 3 41]\n",
      " [16 86]]\n",
      "First 3 41\n",
      "Second: 16 86\n",
      "1\n",
      "[[64 64]\n",
      " [65 95]]\n",
      "First 64 64\n",
      "Second: 65 95\n",
      "0\n",
      "[[ 4  4]\n",
      " [ 5 96]]\n",
      "First 4 4\n",
      "Second: 5 96\n",
      "0\n",
      "[[ 8 43]\n",
      " [ 9 22]]\n",
      "First 8 43\n",
      "Second: 9 22\n",
      "1\n",
      "[[82 88]\n",
      " [20 46]]\n",
      "First 82 88\n",
      "Second: 20 46\n",
      "0\n",
      "[[19 20]\n",
      " [ 9 20]]\n",
      "First 19 20\n",
      "Second: 9 20\n",
      "1\n",
      "[[73 74]\n",
      " [10 74]]\n",
      "First 73 74\n",
      "Second: 10 74\n",
      "1\n",
      "[[23 29]\n",
      " [22 23]]\n",
      "First 23 29\n",
      "Second: 22 23\n",
      "1\n",
      "[[21 82]\n",
      " [22 83]]\n",
      "First 21 82\n",
      "Second: 22 83\n",
      "1\n",
      "[[36 36]\n",
      " [36 84]]\n",
      "First 36 36\n",
      "Second: 36 84\n",
      "1\n",
      "[[34 35]\n",
      " [35 74]]\n",
      "First 34 35\n",
      "Second: 35 74\n",
      "1\n"
     ]
    }
   ],
   "source": [
    "for row in assignments[0:20]:\n",
    "    \n",
    "    print(row)\n",
    "   # print(row[0][0])\n",
    "    print('First', row[0,0], row[0, 1])\n",
    "    print('Second:', row[1,0], row[1, 1])\n",
    "    \n",
    "    if (row[0][1] < row[1][0]):\n",
    "        print(0)\n",
    "    elif (row[0][0] > row[1][1]):\n",
    "        print(0)\n",
    "    else:\n",
    "        print(1)"
   ]
  },
  {
   "cell_type": "code",
   "execution_count": 57,
   "id": "42dfe388",
   "metadata": {},
   "outputs": [
    {
     "name": "stdout",
     "output_type": "stream",
     "text": [
      "1\n",
      "0\n"
     ]
    }
   ],
   "source": [
    "def check_overlap_any(a, b):\n",
    "    \n",
    "        \n",
    "    if (a[1] < b[0]):\n",
    "        return 0\n",
    "    elif (a[0] > b[1]):\n",
    "        return 0\n",
    "    else:\n",
    "        return 1\n",
    "    \n",
    "print(check_overlap_any([34, 35], [35, 74]))\n",
    "print(check_overlap_any([20, 46], [82, 88]))\n",
    "    "
   ]
  },
  {
   "cell_type": "code",
   "execution_count": 61,
   "id": "73bc7e01",
   "metadata": {},
   "outputs": [
    {
     "data": {
      "text/plain": [
       "[1, 1, 1, 1, 1]"
      ]
     },
     "execution_count": 61,
     "metadata": {},
     "output_type": "execute_result"
    }
   ],
   "source": [
    "check2 = [check_overlap_any(pairs[0], pairs[1]) for pairs in assignments]\n",
    "check2[0:5]"
   ]
  },
  {
   "cell_type": "code",
   "execution_count": 62,
   "id": "e02c9234",
   "metadata": {},
   "outputs": [
    {
     "data": {
      "text/plain": [
       "823"
      ]
     },
     "execution_count": 62,
     "metadata": {},
     "output_type": "execute_result"
    }
   ],
   "source": [
    "np.sum(check2)"
   ]
  }
 ],
 "metadata": {
  "kernelspec": {
   "display_name": "Python 3",
   "language": "python",
   "name": "python3"
  },
  "language_info": {
   "codemirror_mode": {
    "name": "ipython",
    "version": 3
   },
   "file_extension": ".py",
   "mimetype": "text/x-python",
   "name": "python",
   "nbconvert_exporter": "python",
   "pygments_lexer": "ipython3",
   "version": "3.8.8"
  }
 },
 "nbformat": 4,
 "nbformat_minor": 5
}
