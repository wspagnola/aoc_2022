{
 "cells": [
  {
   "cell_type": "markdown",
   "id": "53c2bbd7",
   "metadata": {},
   "source": [
    "# Advent of Code 2022: Day 10"
   ]
  },
  {
   "cell_type": "markdown",
   "id": "70ad4eef",
   "metadata": {},
   "source": [
    "## Test Input"
   ]
  },
  {
   "cell_type": "code",
   "execution_count": 31,
   "id": "22445350",
   "metadata": {},
   "outputs": [
    {
     "data": {
      "text/plain": [
       "[['addx', '15'],\n",
       " ['addx', '-11'],\n",
       " ['addx', '6'],\n",
       " ['addx', '-3'],\n",
       " ['addx', '5'],\n",
       " ['addx', '-1'],\n",
       " ['addx', '-8'],\n",
       " ['addx', '13'],\n",
       " ['addx', '4'],\n",
       " ['noop']]"
      ]
     },
     "execution_count": 31,
     "metadata": {},
     "output_type": "execute_result"
    }
   ],
   "source": [
    "with open('data/input_test_2022-12-10.txt', encoding = 'utf-8-sig') as f:\n",
    "    lines = f.readlines()\n",
    "    \n",
    "text = [ line.strip('\\n') for line in lines]\n",
    "steps = [x.split() for x in text if x != '']\n",
    "steps[0:10]"
   ]
  },
  {
   "cell_type": "code",
   "execution_count": 35,
   "id": "0c365fbf",
   "metadata": {},
   "outputs": [
    {
     "name": "stdout",
     "output_type": "stream",
     "text": [
      "420\n",
      "1140\n",
      "1800\n",
      "2940\n",
      "2880\n",
      "3960\n"
     ]
    },
    {
     "data": {
      "text/plain": [
       "13140"
      ]
     },
     "execution_count": 35,
     "metadata": {},
     "output_type": "execute_result"
    }
   ],
   "source": [
    "X = [1]\n",
    "for i, x in enumerate(steps):\n",
    "   # print('i=', i)\n",
    "    #print('step=', x)\n",
    "    if x[0] == 'addx':\n",
    "      #  print(X[i])\n",
    "        X.append(X[-1])\n",
    "        X.append(int(x[1])+int(X[-1]))\n",
    "       #print(X)\n",
    "    else:\n",
    "        X.append(X[-1])\n",
    "print(X[20-1]*20)\n",
    "print(X[60-1]*60)\n",
    "print(X[100-1]*100)\n",
    "print(X[140-1]*140)\n",
    "print(X[180-1]*180)\n",
    "print(X[220-1]*220)\n",
    "\n",
    "420+1140+1800+2940+2880+3960"
   ]
  },
  {
   "cell_type": "markdown",
   "id": "92974c02",
   "metadata": {},
   "source": [
    "## Part 1"
   ]
  },
  {
   "cell_type": "code",
   "execution_count": 2,
   "id": "604cf5c3",
   "metadata": {},
   "outputs": [
    {
     "data": {
      "text/plain": [
       "[['addx', '1'],\n",
       " ['addx', '4'],\n",
       " ['noop'],\n",
       " ['noop'],\n",
       " ['noop'],\n",
       " ['noop'],\n",
       " ['addx', '6'],\n",
       " ['addx', '-1'],\n",
       " ['noop'],\n",
       " ['addx', '5']]"
      ]
     },
     "execution_count": 2,
     "metadata": {},
     "output_type": "execute_result"
    }
   ],
   "source": [
    "with open('data/input_2022-12-10.txt', encoding = 'utf-8-sig') as f:\n",
    "    lines = f.readlines()\n",
    "    \n",
    "text = [ line.strip('\\n') for line in lines]\n",
    "steps = [x.split() for x in text if x != '']\n",
    "steps[0:10]"
   ]
  },
  {
   "cell_type": "code",
   "execution_count": 5,
   "id": "34115045",
   "metadata": {},
   "outputs": [
    {
     "name": "stdout",
     "output_type": "stream",
     "text": [
      "420\n",
      "1260\n",
      "2100\n",
      "2240\n",
      "1080\n",
      "4620\n"
     ]
    },
    {
     "data": {
      "text/plain": [
       "11720"
      ]
     },
     "execution_count": 5,
     "metadata": {},
     "output_type": "execute_result"
    }
   ],
   "source": [
    "X = [1]\n",
    "for i, x in enumerate(steps):\n",
    "    #print('i=', i)\n",
    "    #print('step=', x)\n",
    "    if x[0] == 'addx':\n",
    "      #  print(X[i])\n",
    "        X.append(X[-1])\n",
    "        X.append(int(x[1])+int(X[-1]))\n",
    "        #print(X)\n",
    "    else:\n",
    "        X.append(X[-1])\n",
    "        #print(X)\n",
    "#20th, 60th, 100th, 140th, 180th, and 220th cycles.\n",
    "\n",
    "#X[19]\n",
    "print(X[20-1]*20)\n",
    "print(X[60-1]*60)\n",
    "print(X[100-1]*100)\n",
    "print(X[140-1]*140)\n",
    "print(X[180-1]*180)\n",
    "print(X[220-1]*220)\n",
    "420+1260+2100+2240+1080+4620"
   ]
  },
  {
   "cell_type": "markdown",
   "id": "3ebf1343",
   "metadata": {},
   "source": [
    "## Part 2"
   ]
  },
  {
   "cell_type": "code",
   "execution_count": 8,
   "id": "59a896b6",
   "metadata": {},
   "outputs": [
    {
     "data": {
      "text/plain": [
       "array([[1],\n",
       "       [1],\n",
       "       [2],\n",
       "       [2],\n",
       "       [6],\n",
       "       [6],\n",
       "       [6],\n",
       "       [6],\n",
       "       [6],\n",
       "       [6]])"
      ]
     },
     "execution_count": 8,
     "metadata": {},
     "output_type": "execute_result"
    }
   ],
   "source": [
    "import numpy as np\n",
    "X_array = np.asarray(X).reshape(241, 1)\n",
    "X_array.shape\n",
    "\n",
    "X_array[0:10]\n"
   ]
  },
  {
   "cell_type": "code",
   "execution_count": 20,
   "id": "03bc852a",
   "metadata": {},
   "outputs": [],
   "source": [
    "\n",
    "\n",
    "cycles = np.tile(np.arange(1,41), 6).reshape(240, 1)\n",
    "cycles.shape\n",
    "\n",
    "z = np.concatenate((cycles, X_array[1:len(X_array)]), axis = 1)\n",
    "out_line0 = abs(z[0:40, 0]- z[0:40, 1]) <= 1\n",
    "#z[0:40]\n",
    "\n",
    "out_line0 = abs(z[0:40, 0]- z[0:40, 1]) <= 1\n",
    "line0 = []\n",
    "for i in out_line0:\n",
    "    #print(i)\n",
    "    if i == True:\n",
    "        line0.append('*')\n",
    "    else:\n",
    "        line0.append('.')\n",
    "print(''.join(line0)) \n",
    "\n",
    "\n",
    "out_line1 = abs(z[40:80, 0]- z[40:80, 1]) <= 1\n",
    "line1 = []\n",
    "for i in out_line1:\n",
    "    #print(i)\n",
    "    if i == True:\n",
    "        line1.append('*')\n",
    "    else:\n",
    "        line1.append('.')\n",
    "\n",
    "        \n",
    "        \n",
    "out_line2 = abs(z[80:120, 0]- z[80:120, 1]) <= 1\n",
    "line2 = []\n",
    "for i in out_line2:\n",
    "    #print(i)\n",
    "    if i == True:\n",
    "        line2.append('*')\n",
    "    else:\n",
    "        line2.append('.')\n",
    "\n",
    "\n",
    "                \n",
    "out_line3 = abs(z[120:160, 0]- z[120:160, 1]) <= 1\n",
    "line3 = []\n",
    "for i in out_line3:\n",
    "    #print(i)\n",
    "    if i == True:\n",
    "        line3.append('*')\n",
    "    else:\n",
    "        line3.append('.')\n",
    "\n",
    "\n",
    "\n",
    "        \n",
    "out_line4 = abs(z[160:200, 0]- z[160:200, 1]) <= 1\n",
    "line4 = []\n",
    "for i in out_line4:\n",
    "    #print(i)\n",
    "    if i == True:\n",
    "        line4.append('*')\n",
    "    else:\n",
    "        line4.append('.')\n",
    "        \n",
    "        \n",
    "\n",
    "        \n",
    "out_line5 = abs(z[200:240, 0]- z[200:240, 1]) <= 1\n",
    "line5 = []\n",
    "for i in out_line5:\n",
    "    #print(i)\n",
    "    if i == True:\n",
    "        line5.append('*')\n",
    "    else:\n",
    "        line5.append('.')"
   ]
  },
  {
   "cell_type": "code",
   "execution_count": 23,
   "id": "d4043358",
   "metadata": {},
   "outputs": [
    {
     "name": "stdout",
     "output_type": "stream",
     "text": [
      "***.***...**..***..****.***...**....**..\n",
      "....*..*.*..*.*..*.*....*..*.*..*....*..\n",
      "**..*..*.*....*..*.***..*..*.*.......*..\n",
      "....***..*....***..*....***..*.......*..\n",
      "....*.*..*..*.*.*..*....*....*..*.*..*..\n",
      "***.*..*..**..*..*.****.*.....**...**...\n"
     ]
    }
   ],
   "source": [
    "print(''.join(line0))       \n",
    "print(''.join(line1))\n",
    "print(''.join(line2))\n",
    "print(''.join(line3))\n",
    "print(''.join(line4))\n",
    "print(''.join(line5))"
   ]
  },
  {
   "cell_type": "markdown",
   "id": "e456df55",
   "metadata": {},
   "source": [
    "### Part 2 Answer \n",
    " - Seems like E R C R E P C J\n",
    " - Entered as ERCREPCJ\n",
    " - Note that something is wrong with first column of E. \n",
    "   - Maybe -1 counts if first element is 1 (i.e. no zero position)"
   ]
  },
  {
   "cell_type": "markdown",
   "id": "facd8e5f",
   "metadata": {},
   "source": [
    "# Python Notes (Numpy)\n",
    "1. np.where is weird (returns tuple ?)\n",
    "2. need tuple for np.concatenate, use axis = 0 or 1 for rbind and cbind respectively\n",
    "3. np.title is rep(each=) and np.repeat is rep(times = ) (times = is default in R\n",
    "4. How do I do ifelse in numpy ?"
   ]
  }
 ],
 "metadata": {
  "kernelspec": {
   "display_name": "Python 3",
   "language": "python",
   "name": "python3"
  },
  "language_info": {
   "codemirror_mode": {
    "name": "ipython",
    "version": 3
   },
   "file_extension": ".py",
   "mimetype": "text/x-python",
   "name": "python",
   "nbconvert_exporter": "python",
   "pygments_lexer": "ipython3",
   "version": "3.8.8"
  }
 },
 "nbformat": 4,
 "nbformat_minor": 5
}
