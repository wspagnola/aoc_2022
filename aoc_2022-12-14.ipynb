{
 "cells": [
  {
   "cell_type": "markdown",
   "id": "56b513c5",
   "metadata": {},
   "source": [
    "# Advent of Code 2022: Day 14"
   ]
  },
  {
   "cell_type": "code",
   "execution_count": 8,
   "id": "df093d4a",
   "metadata": {},
   "outputs": [
    {
     "data": {
      "text/plain": [
       "['498,4 -> 498,6 -> 496,6', '503,4 -> 502,4 -> 502,9 -> 494,9']"
      ]
     },
     "execution_count": 8,
     "metadata": {},
     "output_type": "execute_result"
    }
   ],
   "source": [
    "x = [\"498,4 -> 498,6 -> 496,6\", \"503,4 -> 502,4 -> 502,9 -> 494,9\"]\n",
    "     \n",
    "x"
   ]
  },
  {
   "cell_type": "code",
   "execution_count": 99,
   "id": "47689214",
   "metadata": {},
   "outputs": [
    {
     "name": "stdout",
     "output_type": "stream",
     "text": [
      "[array([498,   4]), array([498,   6]), array([496,   6])]\n",
      "[array([503,   4]), array([502,   4]), array([502,   9]), array([494,   9])]\n"
     ]
    }
   ],
   "source": [
    "import numpy as np\n",
    "rocks = [[np.asarray(j.split(','), dtype = int) for j in i.split(' -> ')] for i in x]\n",
    "rocks\n",
    "\n",
    "for rock in rocks:\n",
    "    print(rock)"
   ]
  },
  {
   "cell_type": "code",
   "execution_count": 104,
   "id": "21206d03",
   "metadata": {},
   "outputs": [
    {
     "data": {
      "text/plain": [
       "array([498,   6])"
      ]
     },
     "execution_count": 104,
     "metadata": {},
     "output_type": "execute_result"
    }
   ],
   "source": [
    "rocks[0][0]\n",
    "rocks[0][1]"
   ]
  },
  {
   "cell_type": "code",
   "execution_count": 106,
   "id": "c9ddf000",
   "metadata": {},
   "outputs": [
    {
     "data": {
      "text/plain": [
       "array([['.', '.', '.', '.', '.', '.', '.', '.', '.', '.'],\n",
       "       ['.', '.', '.', '.', '.', '.', '.', '.', '.', '.'],\n",
       "       ['.', '.', '.', '.', '.', '.', '.', '.', '.', '.'],\n",
       "       ['.', '.', '.', '.', '.', '.', '.', '.', '.', '.'],\n",
       "       ['.', '.', '.', '.', '.', '.', '.', '.', '.', '.'],\n",
       "       ['.', '.', '.', '.', '.', '.', '.', '.', '.', '.'],\n",
       "       ['.', '.', '.', '.', '.', '.', '.', '.', '.', '.'],\n",
       "       ['.', '.', '.', '.', '.', '.', '.', '.', '.', '.'],\n",
       "       ['.', '.', '.', '.', '.', '.', '.', '.', '.', '.'],\n",
       "       ['.', '.', '.', '.', '.', '.', '.', '.', '.', '.']], dtype='<U1')"
      ]
     },
     "execution_count": 106,
     "metadata": {},
     "output_type": "execute_result"
    }
   ],
   "source": [
    "waterfall = np.array(np.repeat('.', 100)).reshape(10, 10)\n",
    "waterfall"
   ]
  },
  {
   "cell_type": "code",
   "execution_count": 109,
   "id": "d45b94ca",
   "metadata": {},
   "outputs": [
    {
     "data": {
      "text/plain": [
       "-42"
      ]
     },
     "execution_count": 109,
     "metadata": {},
     "output_type": "execute_result"
    }
   ],
   "source": [
    "\n",
    "waterfall[rocks[0][0][1]:rocks[0][1][1]+1, rocks[0][0][0]-494:rocks[0][1][1]+1-494] = '#'\n",
    "waterfall[rocks[1][0][1]:rocks[1][1][1]+1, rocks[1][0][0]-494:rocks[1][1][0]+1-494] = '#'\n",
    "waterfall\n",
    "#rocks[0][1][1]+1\n",
    "#rocks[0][0][1]\n",
    "#rocks[1][0][1]\n",
    "##rocks[1][1][1]+1\n",
    "#waterfall[4, 4:7]\n",
    "#rocks[1][0][0]-494\n",
    "#rocks[1][1][0]+1-494\n",
    "rocks[0][1][1]+1-49"
   ]
  }
 ],
 "metadata": {
  "kernelspec": {
   "display_name": "Python 3",
   "language": "python",
   "name": "python3"
  },
  "language_info": {
   "codemirror_mode": {
    "name": "ipython",
    "version": 3
   },
   "file_extension": ".py",
   "mimetype": "text/x-python",
   "name": "python",
   "nbconvert_exporter": "python",
   "pygments_lexer": "ipython3",
   "version": "3.8.8"
  }
 },
 "nbformat": 4,
 "nbformat_minor": 5
}
