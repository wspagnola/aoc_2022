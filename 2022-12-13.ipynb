{
 "cells": [
  {
   "cell_type": "raw",
   "id": "ac835313",
   "metadata": {},
   "source": [
    "\n",
    "\n",
    "[[4,4],4,4]\n",
    "[[4,4],4,4,4]\n",
    "\n",
    "[7,7,7,7]\n",
    "[7,7,7]\n",
    "\n",
    "\n",
    "[[[]]]\n",
    "[[]]\n",
    "\n",
    "[1,[2,[3,[4,[5,6,7]]]],8,9]\n",
    "[1,[2,[3,[4,[5,6,0]]]],8,9]\""
   ]
  },
  {
   "cell_type": "code",
   "execution_count": 243,
   "id": "7a78186d",
   "metadata": {},
   "outputs": [
    {
     "name": "stdout",
     "output_type": "stream",
     "text": [
      "[[1, 1, 3, 1, 1], [1, 1, 5, 1, 1]]\n",
      "[[[1], [2, 3, 4]], [[1], 4]]\n",
      "[[9], [[8, 7, 6]]]\n",
      "[[[4, 4], 4, 4], [[4, 4], 4, 4, 4]]\n",
      "[[7, 7, 7, 7], [7, 7, 7]]\n",
      "[[], [3]]\n",
      "[[1, [2, [3, [4, [5, 6, 7]]]], 8, 9], [1, [2, [3, [4, [5, 6, 0]]]], 8, 9]]\n"
     ]
    }
   ],
   "source": [
    "x = [[[1,1,3,1,1], [1,1,5,1,1]],\n",
    "    [[[1],[2,3,4]], [[1],4]],\n",
    "     [[9], [[8,7,6]]],\n",
    "    [[[4,4],4,4], [[4,4],4,4,4]],\n",
    "    [[7,7,7,7],[7,7,7]],\n",
    "    [[], [3]],\n",
    "    [[1,[2,[3,[4,[5,6,7]]]],8,9],[1,[2,[3,[4,[5,6,0]]]],8,9]]]\n",
    "\n",
    "for i in x:\n",
    "    print(i)"
   ]
  },
  {
   "cell_type": "code",
   "execution_count": 40,
   "id": "4d284e3d",
   "metadata": {},
   "outputs": [
    {
     "name": "stdout",
     "output_type": "stream",
     "text": [
      "[True, True, False, True, True]\n",
      "[False, False, True, False, False]\n"
     ]
    },
    {
     "data": {
      "text/plain": [
       "True"
      ]
     },
     "execution_count": 40,
     "metadata": {},
     "output_type": "execute_result"
    }
   ],
   "source": [
    "check_equal = [l == r for l, r in zip(x[0][0], x[0][1])]\n",
    "check_less = [l < r for l, r in zip(x[0][0], x[0][1])]\n",
    "\n",
    "print(check_equal)\n",
    "print(check_less)\n",
    "import numpy as np\n",
    "\n",
    "check_less[np.argmin(check_equal)]"
   ]
  },
  {
   "cell_type": "code",
   "execution_count": 66,
   "id": "eac7d0ef",
   "metadata": {},
   "outputs": [
    {
     "name": "stdout",
     "output_type": "stream",
     "text": [
      "[1]\n",
      "[2, 3, 4]\n"
     ]
    }
   ],
   "source": [
    "x[1]\n",
    "x[1][0][0][0]\n",
    "x[1][1][0][0]\n",
    "\n",
    "\n",
    "for i in x[1][0]:\n",
    "    print(i)"
   ]
  },
  {
   "cell_type": "code",
   "execution_count": 144,
   "id": "0e90dd5a",
   "metadata": {},
   "outputs": [
    {
     "name": "stdout",
     "output_type": "stream",
     "text": [
      "1\n",
      "1\n"
     ]
    }
   ],
   "source": [
    "#print(type(x))\n",
    "    \n",
    "#print(x[1]) \n",
    "#print(isinstance(x, list))\n",
    "def shape(x):\n",
    "    if isinstance(x, list):\n",
    "        return shape(x[0])\n",
    "    \n",
    "    else:\n",
    "        return x\n",
    "\n",
    "print(shape(x[0][0]))\n",
    "print(shape(x[0][1]))"
   ]
  },
  {
   "cell_type": "code",
   "execution_count": 127,
   "id": "5523bdaf",
   "metadata": {},
   "outputs": [
    {
     "name": "stdout",
     "output_type": "stream",
     "text": [
      "[1] [1]\n",
      "not list\n",
      "[[1], [2, 3, 4]] [[1], 4]\n",
      "[2, 3, 4] [1]\n",
      "not list\n",
      "[[1], [2, 3, 4]] [[1], 4]\n"
     ]
    }
   ],
   "source": [
    "#https://stackoverflow.com/questions/51960857/how-can-i-get-a-list-shape-without-using-numpy\n",
    "from typing import List, Tuple, Union\n",
    "\n",
    "\n",
    "def shape(ndarray: Union[List, float]) -> Tuple[int, ...]:\n",
    "    if isinstance(ndarray, list):\n",
    "        # More dimensions, so make a recursive call\n",
    "        outermost_size = len(ndarray)\n",
    "        row_shape = shape(ndarray[0])\n",
    "        return (outermost_size, *row_shape)\n",
    "    else:\n",
    "        # No more dimensions, so we're done\n",
    "        return ()\n",
    "    \n",
    "#print(x[1][0])\n",
    "#shape(x[1][0])\n",
    "\n",
    "np.asarray(x[1][0], dtype = object).shape\n",
    "np.asarray(x[1][0][0], dtype = object).shape\n",
    "np.asarray(x[1][0][1], dtype = object).shape\n",
    "\n",
    "x[1][0]\n",
    "\n",
    "\n",
    "def compare_lr(l, r):\n",
    "    \n",
    "    for i in l:\n",
    "        for j in r:\n",
    "            \n",
    "            if isinstance(i, list) & isinstance(j, list):\n",
    "                print(i, j)\n",
    "                \n",
    "                \n",
    "            else:\n",
    "                print('not list')\n",
    "                print(l, r)\n",
    "                \n",
    "compare_lr(x[1][0], x[1][1])"
   ]
  },
  {
   "cell_type": "code",
   "execution_count": 134,
   "id": "02cdac98",
   "metadata": {},
   "outputs": [],
   "source": [
    "\n",
    "    \n",
    "def get_elem(x):\n",
    "    if isinstance(x, list):\n",
    "        get_elem(x[0])\n",
    "    else:\n",
    "        return(x)\n",
    "    \n",
    "get_elem(x[1][0])"
   ]
  },
  {
   "cell_type": "code",
   "execution_count": 239,
   "id": "82f66ff8",
   "metadata": {},
   "outputs": [
    {
     "name": "stdout",
     "output_type": "stream",
     "text": [
      "left [[1], [2, 3, 4]]\n",
      "right [[1], 4]\n",
      "2\n",
      "0\n",
      "\n",
      "round 0\n",
      "left [1]\n",
      "right [1]\n",
      "[True]\n",
      "[False]\n",
      "1\n",
      "\n",
      "round 1\n",
      "left [2, 3, 4]\n",
      "right 4\n",
      "[False]\n",
      "[True]\n"
     ]
    }
   ],
   "source": [
    "def shape(x):\n",
    "    if isinstance(x, int):\n",
    "        return x\n",
    "    elif len(x) == 0:\n",
    "        return -9\n",
    "    elif isinstance(x[0], list):\n",
    "        return shape(x[0])\n",
    "    else:\n",
    "        return x\n",
    "    \n",
    "print('left', x[1][0])\n",
    "\n",
    "print('right', x[1][1])\n",
    "\n",
    "print(len(x[1][0]))\n",
    "\n",
    "for i in range(len(x[1][0])):\n",
    "    \n",
    "    print(i)\n",
    "    \n",
    "    l = x[1][0][i]\n",
    "    r = x[1][1][i]\n",
    "    \n",
    "    print('\\nround', i)\n",
    "    print('left', l)\n",
    "    print('right', r)\n",
    "\n",
    "    if isinstance(l, int):\n",
    "        left_elem = [l]    \n",
    "    else:\n",
    "        left_elem = shape(l)\n",
    "    if isinstance(r, int):\n",
    "        right_elem = [r]\n",
    "    else:\n",
    "        right_elem = shape(r)\n",
    "\n",
    "    check_equal = [l == r for l, r in zip(left_elem, right_elem)]\n",
    "    check_less = [l < r for l, r in  zip(left_elem, right_elem)]\n",
    "    print(check_equal)\n",
    "    print(check_less)"
   ]
  },
  {
   "cell_type": "code",
   "execution_count": 220,
   "id": "4ea1da71",
   "metadata": {},
   "outputs": [
    {
     "name": "stdout",
     "output_type": "stream",
     "text": [
      "\n",
      "Row 1 [[1, 1, 3, 1, 1], [1, 1, 5, 1, 1]]\n",
      "0 5\n",
      "1 1\n",
      "\n",
      "round 0\n",
      "left 1\n",
      "right 1\n",
      "[True]\n",
      "[False]\n",
      "1 5\n",
      "1 1\n",
      "\n",
      "round 1\n",
      "left 1\n",
      "right 1\n",
      "[True]\n",
      "[False]\n",
      "2 5\n",
      "3 5\n",
      "\n",
      "round 2\n",
      "left 3\n",
      "right 5\n",
      "[False]\n",
      "[True]\n",
      "3 5\n",
      "1 1\n",
      "\n",
      "round 3\n",
      "left 1\n",
      "right 1\n",
      "[True]\n",
      "[False]\n",
      "4 5\n",
      "1 1\n",
      "\n",
      "round 4\n",
      "left 1\n",
      "right 1\n",
      "[True]\n",
      "[False]\n",
      "\n",
      "Row 2 [[[1], [2, 3, 4]], [[1], 4]]\n",
      "0 2\n",
      "[1] [1]\n",
      "\n",
      "round 0\n",
      "left [1]\n",
      "right [1]\n",
      "[True]\n",
      "[False]\n",
      "1 2\n",
      "[2, 3, 4] 4\n",
      "\n",
      "round 1\n",
      "left [2, 3, 4]\n",
      "right 4\n",
      "[False]\n",
      "[True]\n",
      "\n",
      "Row 3 [[9], [[8, 7, 6]]]\n",
      "0 1\n",
      "9 [8, 7, 6]\n",
      "\n",
      "round 0\n",
      "left 9\n",
      "right [8, 7, 6]\n",
      "[False]\n",
      "[False]\n"
     ]
    }
   ],
   "source": [
    "def check_row(left, right):\n",
    "\n",
    "    for i in range(len(left)):\n",
    "        print(i, len(right))\n",
    "        \n",
    "        if i < len(right):\n",
    "            print(left[i], right[i])\n",
    "        \n",
    "            l = left[i]\n",
    "            r = right[i]\n",
    "\n",
    "            print('\\nround', i)\n",
    "            print('left', l)\n",
    "            print('right', r)\n",
    "\n",
    "            if isinstance(l, int):\n",
    "                left_elem = [l]    \n",
    "            else:\n",
    "                left_elem = shape(l)\n",
    "            if isinstance(r, int):\n",
    "                right_elem = [r]\n",
    "            else:\n",
    "                right_elem = shape(r)\n",
    "\n",
    "            check_equal = [l == r for l, r in zip(left_elem, right_elem)]\n",
    "            check_less = [l < r for l, r in  zip(left_elem, right_elem)]\n",
    "            print(check_equal)\n",
    "            print(check_less)\n",
    "            \n",
    "        else:\n",
    "            print('Right side ran out of items')\n",
    "\n",
    "print('\\nRow 1', x[0])\n",
    "check_row(x[0][0], x[0][1])\n",
    "\n",
    "print('\\nRow 2', x[1])\n",
    "check_row(x[1][0], x[1][1])\n",
    "\n",
    "print('\\nRow 3', x[2])\n",
    "check_row(x[2][0], x[2][1])\n",
    "\n"
   ]
  },
  {
   "cell_type": "code",
   "execution_count": 218,
   "id": "9b356b6f",
   "metadata": {},
   "outputs": [
    {
     "name": "stdout",
     "output_type": "stream",
     "text": [
      "\n",
      "Row 4 [[[4, 4], 4, 4], [[4, 4], 4, 4, 4]]\n",
      "0 4\n",
      "[4, 4] [4, 4]\n",
      "\n",
      "round 0\n",
      "left [4, 4]\n",
      "right [4, 4]\n",
      "[True, True]\n",
      "[False, False]\n",
      "1 4\n",
      "4 4\n",
      "\n",
      "round 1\n",
      "left 4\n",
      "right 4\n",
      "[True]\n",
      "[False]\n",
      "2 4\n",
      "4 4\n",
      "\n",
      "round 2\n",
      "left 4\n",
      "right 4\n",
      "[True]\n",
      "[False]\n",
      "\n",
      "Row 5 [[7, 7, 7, 7], [7, 7, 7]]\n",
      "0 3\n",
      "7 7\n",
      "\n",
      "round 0\n",
      "left 7\n",
      "right 7\n",
      "[True]\n",
      "[False]\n",
      "1 3\n",
      "7 7\n",
      "\n",
      "round 1\n",
      "left 7\n",
      "right 7\n",
      "[True]\n",
      "[False]\n",
      "2 3\n",
      "7 7\n",
      "\n",
      "round 2\n",
      "left 7\n",
      "right 7\n",
      "[True]\n",
      "[False]\n",
      "3 3\n",
      "Right side ran out of items\n"
     ]
    }
   ],
   "source": [
    "\n",
    "print('\\nRow 4', x[3])\n",
    "check_row(x[3][0], x[3][1])\n",
    "\n",
    "print('\\nRow 5', x[4])\n",
    "check_row(x[4][0], x[4][1])"
   ]
  },
  {
   "cell_type": "code",
   "execution_count": 244,
   "id": "07be97d6",
   "metadata": {},
   "outputs": [
    {
     "name": "stdout",
     "output_type": "stream",
     "text": [
      "\n",
      "Row 7 [[1, [2, [3, [4, [5, 6, 7]]]], 8, 9], [1, [2, [3, [4, [5, 6, 0]]]], 8, 9]]\n",
      "0 4\n",
      "1 1\n",
      "\n",
      "round 0\n",
      "left 1\n",
      "right 1\n",
      "[True]\n",
      "[False]\n",
      "1 4\n",
      "[2, [3, [4, [5, 6, 7]]]] [2, [3, [4, [5, 6, 0]]]]\n",
      "\n",
      "round 1\n",
      "left [2, [3, [4, [5, 6, 7]]]]\n",
      "right [2, [3, [4, [5, 6, 0]]]]\n",
      "[True, False]\n",
      "[False, False]\n",
      "2 4\n",
      "8 8\n",
      "\n",
      "round 2\n",
      "left 8\n",
      "right 8\n",
      "[True]\n",
      "[False]\n",
      "3 4\n",
      "9 9\n",
      "\n",
      "round 3\n",
      "left 9\n",
      "right 9\n",
      "[True]\n",
      "[False]\n"
     ]
    }
   ],
   "source": [
    "print('\\nRow 7', x[6])\n",
    "check_row(x[6][0], x[6][1])\n",
    "\n",
    "#shape(x[5][0])"
   ]
  }
 ],
 "metadata": {
  "kernelspec": {
   "display_name": "Python 3",
   "language": "python",
   "name": "python3"
  },
  "language_info": {
   "codemirror_mode": {
    "name": "ipython",
    "version": 3
   },
   "file_extension": ".py",
   "mimetype": "text/x-python",
   "name": "python",
   "nbconvert_exporter": "python",
   "pygments_lexer": "ipython3",
   "version": "3.8.8"
  }
 },
 "nbformat": 4,
 "nbformat_minor": 5
}
