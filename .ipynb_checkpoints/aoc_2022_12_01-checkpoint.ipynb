{
 "cells": [
  {
   "cell_type": "markdown",
   "id": "917a969d",
   "metadata": {},
   "source": [
    "## Advent of Code 2022\n",
    "### Day 1\n",
    "### 2022/12/01"
   ]
  },
  {
   "cell_type": "raw",
   "id": "0507268a",
   "metadata": {},
   "source": [
    "# Code for os\n",
    "import os\n",
    "print(os.curdir)\n",
    "print(os.listdir())\n"
   ]
  },
  {
   "cell_type": "markdown",
   "id": "eab2d1d6",
   "metadata": {},
   "source": [
    "### Read Data "
   ]
  },
  {
   "cell_type": "code",
   "execution_count": 17,
   "id": "742a8f71",
   "metadata": {},
   "outputs": [
    {
     "name": "stdout",
     "output_type": "stream",
     "text": [
      "elf  0 : [20576, 21113, 1865]\n",
      "elf  1 : [2343, 3759, 4671, 3514, 6866, 4546, 3609, 6326, 5906, 5442, 5195, 5583, 2710]\n",
      "elf  2 : [16332, 2699, 3741, 7185, 5896]\n",
      "elf  3 : [2267, 3893, 2980, 2947, 3050, 4802, 3632, 3782, 3496, 2039, 5480, 4251, 1354, 4110, 3729]\n",
      "elf  4 : [18422, 14719, 12219, 9338]\n"
     ]
    }
   ],
   "source": [
    "elf = []\n",
    "elves = []\n",
    "text = []\n",
    "\n",
    "with open('data/input_2022_12_01.txt') as f:\n",
    "    for l in f.readlines():\n",
    "        line = l.strip()\n",
    "        text.append(line)\n",
    "        if line != '':\n",
    "            elf.append(int(line))\n",
    "            \n",
    "        else:\n",
    "            elves.append(elf)\n",
    "            elf = []\n",
    "            \n",
    "for i, e in enumerate(elves[0:5]):\n",
    "    print('elf ', i, ':', e)"
   ]
  },
  {
   "cell_type": "markdown",
   "id": "acb16255",
   "metadata": {},
   "source": [
    "### For each elf, sum calories"
   ]
  },
  {
   "cell_type": "code",
   "execution_count": 26,
   "id": "a17d7cb2",
   "metadata": {},
   "outputs": [
    {
     "name": "stdout",
     "output_type": "stream",
     "text": [
      "elf  0 :  43554  calories\n",
      "elf  1 :  60470  calories\n",
      "elf  2 :  35853  calories\n",
      "elf  3 :  51812  calories\n",
      "elf  4 :  54698  calories\n"
     ]
    }
   ],
   "source": [
    "import numpy as np\n",
    "\n",
    "elf_calories = []\n",
    "\n",
    "for elf in elves:\n",
    "    elf_calories.append(np.sum(np.asarray(elf)))\n",
    "\n",
    "elf_calories = np.array(elf_calories)\n",
    "\n",
    "for i, calories in enumerate(elf_calories[0:5]):\n",
    "    print('elf ', i, ': ', calories, ' calories')"
   ]
  },
  {
   "cell_type": "markdown",
   "id": "50e6b7be",
   "metadata": {},
   "source": [
    "### Find Elf carrying most calories"
   ]
  },
  {
   "cell_type": "code",
   "execution_count": 27,
   "id": "776a012c",
   "metadata": {},
   "outputs": [
    {
     "name": "stdout",
     "output_type": "stream",
     "text": [
      "elf  83 :  70720  calories\n"
     ]
    },
    {
     "data": {
      "text/plain": [
       "83"
      ]
     },
     "execution_count": 27,
     "metadata": {},
     "output_type": "execute_result"
    }
   ],
   "source": [
    "print('elf ', np.argmax(elf_calories), ': ', np.max(elf_calories), ' calories')"
   ]
  },
  {
   "cell_type": "markdown",
   "id": "f5121e32",
   "metadata": {},
   "source": [
    "### Find top 3 elves by calories and sum the calories they are carrying"
   ]
  },
  {
   "cell_type": "code",
   "execution_count": 36,
   "id": "2312d3b0",
   "metadata": {},
   "outputs": [
    {
     "name": "stdout",
     "output_type": "stream",
     "text": [
      "Calories of top 3 elves:  [70720, 68508, 67920]\n",
      "Total calories of top 3 elves:  207148\n"
     ]
    }
   ],
   "source": [
    "elf_sorted = sorted(elf_calories)[::-1]\n",
    "elf_sorted[0:3]\n",
    "print('Calories of top 3 elves: ', elf_sorted[0:3])\n",
    "print('Total calories of top 3 elves: ', np.sum(elf_sorted[0:3]))"
   ]
  }
 ],
 "metadata": {
  "kernelspec": {
   "display_name": "Python 3",
   "language": "python",
   "name": "python3"
  },
  "language_info": {
   "codemirror_mode": {
    "name": "ipython",
    "version": 3
   },
   "file_extension": ".py",
   "mimetype": "text/x-python",
   "name": "python",
   "nbconvert_exporter": "python",
   "pygments_lexer": "ipython3",
   "version": "3.8.8"
  }
 },
 "nbformat": 4,
 "nbformat_minor": 5
}
