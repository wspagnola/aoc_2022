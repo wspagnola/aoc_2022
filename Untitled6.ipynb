{
 "cells": [
  {
   "cell_type": "raw",
   "id": "da7902b8",
   "metadata": {},
   "source": [
    "[[1],4]\n",
    "\n",
    "[9]\n",
    "[[8,7,6]]\n",
    "\n",
    "[[4,4],4,4]\n",
    "[[4,4],4,4,4]\n",
    "\n",
    "[7,7,7,7]\n",
    "[7,7,7]\n",
    "\n",
    "[]\n",
    "[3]\n",
    "\n",
    "[[[]]]\n",
    "[[]]\n",
    "\n",
    "[1,[2,[3,[4,[5,6,7]]]],8,9]\n",
    "[1,[2,[3,[4,[5,6,0]]]],8,9]\""
   ]
  },
  {
   "cell_type": "code",
   "execution_count": 119,
   "id": "b69c1b93",
   "metadata": {},
   "outputs": [
    {
     "name": "stdout",
     "output_type": "stream",
     "text": [
      "[[1, 1, 3, 1, 1], [1, 1, 5, 1, 1]]\n",
      "[[[1], [2, 3, 4]], [[1], 4]]\n"
     ]
    }
   ],
   "source": [
    "x = [[[1,1,3,1,1], [1,1,5,1,1]],\n",
    "    [[[1],[2,3,4]], [[1],4]]]\n",
    "\n",
    "for i in x:\n",
    "    print(i)"
   ]
  },
  {
   "cell_type": "code",
   "execution_count": 40,
   "id": "515492ff",
   "metadata": {},
   "outputs": [
    {
     "name": "stdout",
     "output_type": "stream",
     "text": [
      "[True, True, False, True, True]\n",
      "[False, False, True, False, False]\n"
     ]
    },
    {
     "data": {
      "text/plain": [
       "True"
      ]
     },
     "execution_count": 40,
     "metadata": {},
     "output_type": "execute_result"
    }
   ],
   "source": [
    "check_equal = [l == r for l, r in zip(x[0][0], x[0][1])]\n",
    "check_less = [l < r for l, r in zip(x[0][0], x[0][1])]\n",
    "\n",
    "print(check_equal)\n",
    "print(check_less)\n",
    "import numpy as np\n",
    "\n",
    "check_less[np.argmin(check_equal)]"
   ]
  },
  {
   "cell_type": "code",
   "execution_count": 66,
   "id": "74fd92d9",
   "metadata": {},
   "outputs": [
    {
     "name": "stdout",
     "output_type": "stream",
     "text": [
      "[1]\n",
      "[2, 3, 4]\n"
     ]
    }
   ],
   "source": [
    "x[1]\n",
    "x[1][0][0][0]\n",
    "x[1][1][0][0]\n",
    "\n",
    "\n",
    "for i in x[1][0]:\n",
    "    print(i)"
   ]
  },
  {
   "cell_type": "code",
   "execution_count": 89,
   "id": "fb9ad013",
   "metadata": {},
   "outputs": [
    {
     "name": "stdout",
     "output_type": "stream",
     "text": [
      "<class 'list'>\n",
      "[[[1], [2, 3, 4]], [[1], 4]]\n",
      "True\n"
     ]
    },
    {
     "data": {
      "text/plain": [
       "1"
      ]
     },
     "execution_count": 89,
     "metadata": {},
     "output_type": "execute_result"
    }
   ],
   "source": [
    "print(type(x))\n",
    "    \n",
    "print(x[1]) \n",
    "print(isinstance(x, list))\n",
    "def shape(x):\n",
    "    if isinstance(x, list):\n",
    "        shape(x[0])\n",
    "    \n",
    "    else:\n",
    "        return (len([x]))\n",
    "\n",
    "\n",
    "    shape(shape(shape(x[1])))"
   ]
  },
  {
   "cell_type": "code",
   "execution_count": 126,
   "id": "790908de",
   "metadata": {},
   "outputs": [
    {
     "name": "stdout",
     "output_type": "stream",
     "text": [
      "[[1], [2, 3, 4]] [[1], 4]\n",
      "[[1], [2, 3, 4]] [[1], 4]\n",
      "[[1], [2, 3, 4]] [[1], 4]\n",
      "[[1], [2, 3, 4]] [[1], 4]\n"
     ]
    }
   ],
   "source": [
    "#https://stackoverflow.com/questions/51960857/how-can-i-get-a-list-shape-without-using-numpy\n",
    "from typing import List, Tuple, Union\n",
    "\n",
    "\n",
    "def shape(ndarray: Union[List, float]) -> Tuple[int, ...]:\n",
    "    if isinstance(ndarray, list):\n",
    "        # More dimensions, so make a recursive call\n",
    "        outermost_size = len(ndarray)\n",
    "        row_shape = shape(ndarray[0])\n",
    "        return (outermost_size, *row_shape)\n",
    "    else:\n",
    "        # No more dimensions, so we're done\n",
    "        return ()\n",
    "    \n",
    "#print(x[1][0])\n",
    "#shape(x[1][0])\n",
    "\n",
    "np.asarray(x[1][0], dtype = object).shape\n",
    "np.asarray(x[1][0][0], dtype = object).shape\n",
    "np.asarray(x[1][0][1], dtype = object).shape\n",
    "\n",
    "x[1][0]\n",
    "\n",
    "\n",
    "def compare_lr(l, r):\n",
    "    \n",
    "    for i in l:\n",
    "        for j in r:\n",
    "            \n",
    "            if isinstance(l, list) & isinstance(r, list):\n",
    "                print(l, r)\n",
    "            else:\n",
    "                print('not list')\n",
    "                print(l, r)\n",
    "                \n",
    "compare_lr(x[1][0], x[1][1])"
   ]
  }
 ],
 "metadata": {
  "kernelspec": {
   "display_name": "Python 3",
   "language": "python",
   "name": "python3"
  },
  "language_info": {
   "codemirror_mode": {
    "name": "ipython",
    "version": 3
   },
   "file_extension": ".py",
   "mimetype": "text/x-python",
   "name": "python",
   "nbconvert_exporter": "python",
   "pygments_lexer": "ipython3",
   "version": "3.8.8"
  }
 },
 "nbformat": 4,
 "nbformat_minor": 5
}
