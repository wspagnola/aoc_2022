{
 "cells": [
  {
   "cell_type": "markdown",
   "id": "86d7c1f9",
   "metadata": {},
   "source": [
    "#  Advent of Code 2022: Day 11"
   ]
  },
  {
   "cell_type": "code",
   "execution_count": 1,
   "id": "13731153",
   "metadata": {},
   "outputs": [
    {
     "data": {
      "text/plain": [
       "['input_2022-12-07_test.txt',\n",
       " 'input_2022-12-03.txt',\n",
       " 'input_2022-12-06.txt',\n",
       " 'input_2022-12-05.txt',\n",
       " 'input_2022-12-10.txt',\n",
       " 'input_2022-12-04.txt',\n",
       " 'input_2022-12-09.txt',\n",
       " 'input_2022-12-08.txt',\n",
       " 'input_test_2022-12-10.txt',\n",
       " 'input_test_2022-12-11.txt',\n",
       " 'input_2022_12_02.txt',\n",
       " 'input_2022_12_01.txt',\n",
       " '.~lock.input_test_2022-12-11.txt#']"
      ]
     },
     "execution_count": 1,
     "metadata": {},
     "output_type": "execute_result"
    }
   ],
   "source": [
    "import os\n",
    "os.listdir('data')"
   ]
  },
  {
   "cell_type": "code",
   "execution_count": 24,
   "id": "4f152f7f",
   "metadata": {},
   "outputs": [
    {
     "data": {
      "text/plain": [
       "['Monkey 0:\\n',\n",
       " '  Starting items: 79, 98\\n',\n",
       " '  Operation: new = old * 19\\n',\n",
       " '  Test: divisible by 23\\n',\n",
       " '    If true: throw to monkey 2\\n',\n",
       " '    If false: throw to monkey 3\\n',\n",
       " 'Monkey 1:\\n',\n",
       " '  Starting items: 54, 65, 75, 74\\n',\n",
       " '  Operation: new = old + 6\\n',\n",
       " '  Test: divisible by 19\\n',\n",
       " '    If true: throw to monkey 2\\n',\n",
       " '    If false: throw to monkey 0\\n',\n",
       " 'Monkey 2:\\n',\n",
       " '  Starting items: 79, 60, 97\\n',\n",
       " '  Operation: new = old * old\\n',\n",
       " '  Test: divisible by 13\\n',\n",
       " '    If true: throw to monkey 1\\n',\n",
       " '    If false: throw to monkey 3\\n',\n",
       " 'Monkey 3:\\n',\n",
       " '  Starting items: 74\\n',\n",
       " '  Operation: new = old + 3\\n',\n",
       " '  Test: divisible by 17\\n',\n",
       " '    If true: throw to monkey 0\\n',\n",
       " '    If false: throw to monkey 1\\n']"
      ]
     },
     "execution_count": 24,
     "metadata": {},
     "output_type": "execute_result"
    }
   ],
   "source": [
    "with open('data/input_test_2022-12-11.txt', encoding = 'utf-8-sig') as f:\n",
    "    lines = f.readlines()\n",
    "\n",
    "text = [line for line in lines if line != '\\n']\n",
    "\n",
    "import json\n",
    "\n",
    "text"
   ]
  },
  {
   "cell_type": "raw",
   "id": "99f6d34f",
   "metadata": {},
   "source": [
    ">>> class Dog:\n",
    "...     species = \"Canis familiaris\"\n",
    "...     def __init__(self, name, age):\n",
    "...         self.name = name\n",
    "...         self.age = age\n",
    "        \n",
    "      # Instance method\n",
    "    #def description(self):\n",
    "        return f\"{self.name} is {self.age} years old\""
   ]
  },
  {
   "cell_type": "code",
   "execution_count": 61,
   "id": "a61d6cca",
   "metadata": {},
   "outputs": [
    {
     "name": "stdout",
     "output_type": "stream",
     "text": [
      "[79, 98]\n",
      "[500. 620.]\n"
     ]
    },
    {
     "data": {
      "text/plain": [
       "[79, 98, 32]"
      ]
     },
     "execution_count": 61,
     "metadata": {},
     "output_type": "execute_result"
    }
   ],
   "source": [
    "class Monkey: \n",
    "    #pass # Place Holder\n",
    "    def __init__(self, name, items, operate):\n",
    "        self.name = name\n",
    "        self.items = items\n",
    "        self.operate = operate\n",
    "    def operation(self):\n",
    "        return np.floor(np.array(self.items) * self.operate/ 3)\n",
    "\n",
    "        \n",
    "monkey0 = Monkey(0, [79, 98], 19)\n",
    "\n",
    "import numpy as np\n",
    "\n",
    "print(monkey0.items)\n",
    "print(monkey0.operation())\n"
   ]
  }
 ],
 "metadata": {
  "kernelspec": {
   "display_name": "Python 3",
   "language": "python",
   "name": "python3"
  },
  "language_info": {
   "codemirror_mode": {
    "name": "ipython",
    "version": 3
   },
   "file_extension": ".py",
   "mimetype": "text/x-python",
   "name": "python",
   "nbconvert_exporter": "python",
   "pygments_lexer": "ipython3",
   "version": "3.8.8"
  }
 },
 "nbformat": 4,
 "nbformat_minor": 5
}
