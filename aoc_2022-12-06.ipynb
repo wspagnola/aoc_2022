{
 "cells": [
  {
   "cell_type": "markdown",
   "id": "38258f34",
   "metadata": {},
   "source": [
    "# Advent of Code 2022: Day 6\n",
    "## William Spagnola"
   ]
  },
  {
   "cell_type": "markdown",
   "id": "24e02dd3",
   "metadata": {},
   "source": [
    "## Import Data"
   ]
  },
  {
   "cell_type": "code",
   "execution_count": 52,
   "id": "38ec301d",
   "metadata": {},
   "outputs": [
    {
     "name": "stdout",
     "output_type": "stream",
     "text": [
      "tzltz\n",
      "qddqm\n"
     ]
    }
   ],
   "source": [
    "# import os\n",
    "# os.getcwd()\n",
    "# os.listdir('data')\n",
    "\n",
    "with open('data/input_2022-12-06.txt') as f:\n",
    "    text = [line.strip('\\n') for line in f.readlines()]\n",
    "    \n",
    "print(text[0][0:5])\n",
    "print(text[0][-5::])"
   ]
  },
  {
   "cell_type": "code",
   "execution_count": 21,
   "id": "d963eaf1",
   "metadata": {},
   "outputs": [
    {
     "data": {
      "text/plain": [
       "array([['t'],\n",
       "       ['z'],\n",
       "       ['l'],\n",
       "       ['t']], dtype='<U1')"
      ]
     },
     "execution_count": 21,
     "metadata": {},
     "output_type": "execute_result"
    }
   ],
   "source": [
    "import numpy as np\n",
    "text_arr = np.asarray([[letter] for letter in text[0]])\n",
    "text_arr[0:4]"
   ]
  },
  {
   "cell_type": "markdown",
   "id": "91ab0553",
   "metadata": {},
   "source": [
    "## Part 1"
   ]
  },
  {
   "cell_type": "code",
   "execution_count": 38,
   "id": "10cd3e1f",
   "metadata": {},
   "outputs": [
    {
     "name": "stdout",
     "output_type": "stream",
     "text": [
      "1762\n",
      "1766\n"
     ]
    },
    {
     "data": {
      "text/plain": [
       "array([['l'],\n",
       "       ['p'],\n",
       "       ['d'],\n",
       "       ['n']], dtype='<U1')"
      ]
     },
     "execution_count": 38,
     "metadata": {},
     "output_type": "execute_result"
    }
   ],
   "source": [
    "len(np.unique(text_arr[0:4]))\n",
    "\n",
    "for i in range(len(text_arr)):\n",
    "    unique_letters = len(np.unique(text_arr[i:i+4]))\n",
    "    \n",
    "    if unique_letters == 4:\n",
    "        print(i)\n",
    "        print(i+4)\n",
    "        break\n",
    "        \n",
    "text_arr[1762:1766]"
   ]
  },
  {
   "cell_type": "markdown",
   "id": "36b64cd5",
   "metadata": {},
   "source": [
    "## Part 2"
   ]
  },
  {
   "cell_type": "markdown",
   "id": "585f1ffe",
   "metadata": {},
   "source": [
    "#### Function to detect start of packet \n"
   ]
  },
  {
   "cell_type": "code",
   "execution_count": 42,
   "id": "5093bd6c",
   "metadata": {},
   "outputs": [
    {
     "data": {
      "text/plain": [
       "1766"
      ]
     },
     "execution_count": 42,
     "metadata": {},
     "output_type": "execute_result"
    }
   ],
   "source": [
    "def packet_detect(text, length):\n",
    "    \n",
    "    for i in range(len(text)):\n",
    "        \n",
    "        unique_letters = len(np.unique(text[i:i+length]))\n",
    "\n",
    "        if unique_letters == length:\n",
    "            return(i+length)\n",
    "        \n",
    "packet_detect(text_arr, 4)"
   ]
  },
  {
   "cell_type": "markdown",
   "id": "4ca3d068",
   "metadata": {},
   "source": [
    "Detect packet for first sequence of 14 non-repeated letters"
   ]
  },
  {
   "cell_type": "code",
   "execution_count": 53,
   "id": "32e27c5b",
   "metadata": {},
   "outputs": [
    {
     "data": {
      "text/plain": [
       "2383"
      ]
     },
     "execution_count": 53,
     "metadata": {},
     "output_type": "execute_result"
    }
   ],
   "source": [
    "packet_detect(text_arr, 14)"
   ]
  },
  {
   "cell_type": "markdown",
   "id": "68d95c75",
   "metadata": {},
   "source": [
    "Check string to make sure no letters are repeated"
   ]
  },
  {
   "cell_type": "code",
   "execution_count": 56,
   "id": "7ef4de32",
   "metadata": {},
   "outputs": [
    {
     "data": {
      "text/plain": [
       "array([['p'],\n",
       "       ['c'],\n",
       "       ['g'],\n",
       "       ['b'],\n",
       "       ['w'],\n",
       "       ['n'],\n",
       "       ['t'],\n",
       "       ['j'],\n",
       "       ['v'],\n",
       "       ['l'],\n",
       "       ['s'],\n",
       "       ['f'],\n",
       "       ['r'],\n",
       "       ['z']], dtype='<U1')"
      ]
     },
     "execution_count": 56,
     "metadata": {},
     "output_type": "execute_result"
    }
   ],
   "source": [
    "# Test\n",
    "text_arr[2369:2383]"
   ]
  }
 ],
 "metadata": {
  "kernelspec": {
   "display_name": "Python 3",
   "language": "python",
   "name": "python3"
  },
  "language_info": {
   "codemirror_mode": {
    "name": "ipython",
    "version": 3
   },
   "file_extension": ".py",
   "mimetype": "text/x-python",
   "name": "python",
   "nbconvert_exporter": "python",
   "pygments_lexer": "ipython3",
   "version": "3.8.8"
  }
 },
 "nbformat": 4,
 "nbformat_minor": 5
}
