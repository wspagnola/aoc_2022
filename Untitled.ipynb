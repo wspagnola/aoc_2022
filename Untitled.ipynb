{
 "cells": [
  {
   "cell_type": "code",
   "execution_count": 30,
   "id": "861e6a7e",
   "metadata": {},
   "outputs": [
    {
     "data": {
      "text/plain": [
       "array([[[None, None, None, None, None],\n",
       "        [None, None, None, None, None],\n",
       "        [None, None, None, None, None],\n",
       "        [None, None, None, None, None],\n",
       "        ['H', None, None, None, None]],\n",
       "\n",
       "       [[None, None, None, None, None],\n",
       "        [None, None, None, None, None],\n",
       "        [None, None, None, None, None],\n",
       "        [None, None, None, None, None],\n",
       "        ['T', None, None, None, None]]], dtype=object)"
      ]
     },
     "execution_count": 30,
     "metadata": {},
     "output_type": "execute_result"
    }
   ],
   "source": [
    "import numpy as np\n",
    "\n",
    "\n",
    "grid = np.repeat(None, 50).reshape(2, 5, 5)\n",
    "grid[0, 4, 0] = 'H'\n",
    "grid[1, 4, 0] = 'T'\n",
    "grid"
   ]
  },
  {
   "cell_type": "code",
   "execution_count": 50,
   "id": "98218c27",
   "metadata": {},
   "outputs": [
    {
     "name": "stdout",
     "output_type": "stream",
     "text": [
      "[[[None None None None None None]\n",
      "  [None None None None None None]\n",
      "  [None None None None None None]\n",
      "  [None None None None None None]\n",
      "  ['H' None None None None None]]\n",
      "\n",
      " [[None None None None None None]\n",
      "  [None None None None None None]\n",
      "  [None None None None None None]\n",
      "  [None None None None None None]\n",
      "  ['T' None None None None None]]]\n",
      "1\n",
      "(array([0]), array([4]), array([0]))\n",
      "(array([0]), array([4]), array([1]))\n",
      "[[[None None None None None None]\n",
      "  [None None None None None None]\n",
      "  [None None None None None None]\n",
      "  [None None None None None None]\n",
      "  [None 'H' None None None None]]\n",
      "\n",
      " [[None None None None None None]\n",
      "  [None None None None None None]\n",
      "  [None None None None None None]\n",
      "  [None None None None None None]\n",
      "  ['T' None None None None None]]]\n",
      "2\n",
      "(array([0]), array([4]), array([1]))\n",
      "(array([0]), array([4]), array([2]))\n",
      "[[[None None None None None None]\n",
      "  [None None None None None None]\n",
      "  [None None None None None None]\n",
      "  [None None None None None None]\n",
      "  [None None 'H' None None None]]\n",
      "\n",
      " [[None None None None None None]\n",
      "  [None None None None None None]\n",
      "  [None None None None None None]\n",
      "  [None None None None None None]\n",
      "  ['T' None None None None None]]]\n",
      "3\n",
      "(array([0]), array([4]), array([2]))\n",
      "(array([0]), array([4]), array([3]))\n",
      "[[[None None None None None None]\n",
      "  [None None None None None None]\n",
      "  [None None None None None None]\n",
      "  [None None None None None None]\n",
      "  [None None None 'H' None None]]\n",
      "\n",
      " [[None None None None None None]\n",
      "  [None None None None None None]\n",
      "  [None None None None None None]\n",
      "  [None None None None None None]\n",
      "  ['T' None None None None None]]]\n",
      "4\n",
      "(array([0]), array([4]), array([3]))\n",
      "(array([0]), array([4]), array([4]))\n",
      "[[[None None None None None None]\n",
      "  [None None None None None None]\n",
      "  [None None None None None None]\n",
      "  [None None None None None None]\n",
      "  [None None None None 'H' None]]\n",
      "\n",
      " [[None None None None None None]\n",
      "  [None None None None None None]\n",
      "  [None None None None None None]\n",
      "  [None None None None None None]\n",
      "  ['T' None None None None None]]]\n"
     ]
    }
   ],
   "source": [
    "# Initialize Grid\n",
    "grid = np.repeat(None, 60).reshape(2, 5, 6)\n",
    "grid[0, 4, 0] = 'H'\n",
    "grid[1, 4, 0] = 'T'\n",
    "\n",
    "print(grid)\n",
    "\n",
    "\n",
    "# Walk Right 4 (R 4)\n",
    "for i in range(1, 4+1):\n",
    "    \n",
    "    print(i)\n",
    "    \n",
    "    # Find Current Position\n",
    "    cur_pos_H = np.where(grid == 'H')\n",
    "    print(cur_pos_H)\n",
    "    \n",
    "    # Move away from current position\n",
    "    grid[cur_pos_H] = None\n",
    "    \n",
    "    # Set New Position\n",
    "    cur_pos_H[2][0] = cur_pos_H[2][0] + 1\n",
    "    \n",
    "    print(cur_pos_H)\n",
    "\n",
    "    # move to New Position\n",
    "    grid[cur_pos_H] = 'H'\n",
    "    \n",
    "    print(grid)\n",
    "\n",
    "    "
   ]
  }
 ],
 "metadata": {
  "kernelspec": {
   "display_name": "Python 3",
   "language": "python",
   "name": "python3"
  },
  "language_info": {
   "codemirror_mode": {
    "name": "ipython",
    "version": 3
   },
   "file_extension": ".py",
   "mimetype": "text/x-python",
   "name": "python",
   "nbconvert_exporter": "python",
   "pygments_lexer": "ipython3",
   "version": "3.8.8"
  }
 },
 "nbformat": 4,
 "nbformat_minor": 5
}
