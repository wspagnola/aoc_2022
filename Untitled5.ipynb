{
 "cells": [
  {
   "cell_type": "raw",
   "id": "7a88bf56",
   "metadata": {},
   "source": [
    "Monnkey 0:\n",
    "  Starting items: 79, 98\n",
    "  Operation: new = old * 19\n",
    "  Test: divisible by 23\n",
    "    If true: throw to monkey 2\n",
    "    If false: throw to monkey 3"
   ]
  },
  {
   "cell_type": "code",
   "execution_count": null,
   "id": "9022c5bf",
   "metadata": {},
   "outputs": [],
   "source": [
    "items_list = list(list(70, 98))\n",
    "items_list"
   ]
  }
 ],
 "metadata": {
  "kernelspec": {
   "display_name": "R",
   "language": "R",
   "name": "ir"
  }
 },
 "nbformat": 4,
 "nbformat_minor": 5
}
