{
 "cells": [
  {
   "cell_type": "code",
   "execution_count": 4,
   "id": "cd06f816",
   "metadata": {},
   "outputs": [
    {
     "data": {
      "text/plain": [
       "['input_2022-12-07_test.txt',\n",
       " 'input_2022-12-03.txt',\n",
       " 'input_2022-12-06.txt',\n",
       " 'input_2022-12-05.txt',\n",
       " 'input_2022-12-04.txt',\n",
       " 'input_2022_12_02.txt',\n",
       " 'input_2022_12_01.txt']"
      ]
     },
     "execution_count": 4,
     "metadata": {},
     "output_type": "execute_result"
    }
   ],
   "source": [
    "import os\n",
    "os.listdir('data')"
   ]
  },
  {
   "cell_type": "code",
   "execution_count": 20,
   "id": "9f5169bd",
   "metadata": {},
   "outputs": [],
   "source": [
    "import re\n",
    "import numpy as np"
   ]
  },
  {
   "cell_type": "code",
   "execution_count": 214,
   "id": "72c0ecf7",
   "metadata": {},
   "outputs": [
    {
     "name": "stdout",
     "output_type": "stream",
     "text": [
      "cd /\n",
      "ls dir a 14848514 b.txt 8504156 c.dat dir d\n",
      "Sublist ['dir a', '14848514 b.txt', '8504156 c.dat', 'dir d']\n",
      "cd a\n",
      "ls dir e 29116 f 2557 g 62596 h.lst\n",
      "Sublist ['dir e', '29116 f', '2557 g', '62596 h.lst']\n",
      "cd e\n",
      "ls 584 i\n",
      "Sublist ['584 i']\n",
      "cd ..\n",
      "cd ..\n",
      "cd d\n",
      "ls 4060174 j 8033020 d.log 5626152 d.ext 7214296 k\n",
      "Sublist ['4060174 j', '8033020 d.log', '5626152 d.ext', '7214296 k']\n"
     ]
    }
   ],
   "source": [
    "with open('data/input_2022-12-07_test.txt', encoding='utf-8-sig') as f:\n",
    "    test = f.readlines()\n",
    "\n",
    "test_lines = [line.replace('\\n', ' ').strip('\\n').strip(' ') for line in ''.join(test).split('$') if line != '']\n",
    "\n",
    "\n",
    "\n",
    "\n",
    "for l in test_lines:\n",
    "    print(l)\n",
    "    sublist = []\n",
    "    if l[0:2] == 'ls':\n",
    "        temp = l[3::].split(' ')\n",
    "        sublist = [\" \".join(temp[i:i+2]) for i in range(0, len(temp), 2)]\n",
    "        print('Sublist', sublist)"
   ]
  },
  {
   "cell_type": "code",
   "execution_count": null,
   "id": "70e03994",
   "metadata": {},
   "outputs": [],
   "source": [
    "#https://stackoverflow.com/questions/1621906/is-there-a-way-to-split-a-string-by-every-nth-separator-in-python\n",
    "##print [\"-\".join(words[i:i+span]) for i in range(0, len(words), span)]\n",
    "\n"
   ]
  },
  {
   "cell_type": "code",
   "execution_count": 152,
   "id": "63d89b3e",
   "metadata": {},
   "outputs": [
    {
     "name": "stdout",
     "output_type": "stream",
     "text": [
      "cd /\n",
      "Current Directory /\n",
      "ls dir a 14848514 b.txt 8504156 c.dat dir d\n",
      "cd a\n",
      "Current Directory a\n",
      "ls dir e 29116 f 2557 g 62596 h.lst\n",
      "cd e\n",
      "Current Directory e\n",
      "ls 584 i\n",
      "cd ..\n",
      "Current Directory ..\n",
      "cd ..\n",
      "Current Directory ..\n",
      "cd d\n",
      "Current Directory d\n",
      "ls 4060174 j 8033020 d.log 5626152 d.ext 7214296 k\n",
      "{'/': {'/': None}, 'a': {'a': None}, 'e': {'e': None}, '..': {'..': None}, 'd': {'d': None}}\n"
     ]
    },
    {
     "data": {
      "text/plain": [
       "{'/': None}"
      ]
     },
     "execution_count": 152,
     "metadata": {},
     "output_type": "execute_result"
    }
   ],
   "source": [
    "file_dict = {}\n",
    "cwd = '/'\n",
    "for l in test_lines:\n",
    "    print(l)\n",
    "    \n",
    "    if l[0:2] == 'cd':\n",
    "        cwd = l[3:5]\n",
    "        print('Current Directory', cwd)\n",
    "        file_dict[cwd] = dict([(l[3:5], None)])\n",
    "     elif l[0:2]\n",
    "    \n",
    "print(file_dict)\n",
    "\n",
    "#file_dict[]\n",
    "\n",
    "file_dict['/']"
   ]
  },
  {
   "cell_type": "code",
   "execution_count": 40,
   "id": "e37b6651",
   "metadata": {},
   "outputs": [
    {
     "name": "stdout",
     "output_type": "stream",
     "text": [
      "$ cd /\n",
      "$ cd a\n",
      "$ cd e\n",
      "$ cd ..\n",
      "$ cd ..\n",
      "$ cd d\n"
     ]
    }
   ],
   "source": [
    "cd_bool = [x.find('cd') > 0 for x in test]\n",
    "\n",
    "cd_idx = [i for i,x in enumerate(cd_bool) if x ]\n",
    "\n",
    "cd_list = [i for (i,v) in zip(test, cd_bool) if v]\n",
    "\n",
    "cd_idx\n",
    "\n",
    "for i in cd_idx:\n",
    "    print(test[i])"
   ]
  },
  {
   "cell_type": "code",
   "execution_count": 59,
   "id": "c05ba6a5",
   "metadata": {},
   "outputs": [
    {
     "data": {
      "text/plain": [
       "{'/': None, 'a': None, 'e': None, 'd': None}"
      ]
     },
     "execution_count": 59,
     "metadata": {},
     "output_type": "execute_result"
    }
   ],
   "source": [
    "name_list = []\n",
    "\n",
    "for i in test:\n",
    "    if i.find('cd') > 0 and i[5:7] != '..':\n",
    "        name_list.append((i[5:7], None))\n",
    "        \n",
    "name_list\n",
    "\n",
    "name_dict = dict(name_list)\n",
    "name_dict"
   ]
  },
  {
   "cell_type": "code",
   "execution_count": 78,
   "id": "d0be7f1c",
   "metadata": {},
   "outputs": [
    {
     "name": "stdout",
     "output_type": "stream",
     "text": [
      "/\n",
      "a\n",
      "e\n",
      "..\n",
      "..\n",
      "d\n"
     ]
    }
   ],
   "source": [
    "name_list = []\n",
    "\n",
    "for i in test:\n",
    "    if i.find('cd') > 0:\n",
    "        name_list.append(i[5:7])\n",
    "        \n",
    "for i in name_list:\n",
    "    print(i)\n"
   ]
  },
  {
   "cell_type": "code",
   "execution_count": null,
   "id": "6880c9af",
   "metadata": {},
   "outputs": [],
   "source": []
  },
  {
   "cell_type": "code",
   "execution_count": 98,
   "id": "a3f157d3",
   "metadata": {},
   "outputs": [
    {
     "name": "stdout",
     "output_type": "stream",
     "text": [
      "$ cd /\n",
      "$ ls\n",
      "dir a\n",
      "14848514 b.txt\n",
      "8504156 c.dat\n",
      "dir d\n",
      "$ cd a\n",
      "$ ls\n",
      "dir e\n",
      "29116 f\n",
      "2557 g\n",
      "62596 h.lst\n",
      "$ cd e\n",
      "$ ls\n",
      "584 i\n",
      "$ cd ..\n",
      "$ cd ..\n",
      "$ cd d\n",
      "$ ls\n",
      "4060174 j\n",
      "8033020 d.log\n",
      "5626152 d.ext\n",
      "7214296 k\n",
      "\n"
     ]
    }
   ],
   "source": [
    "for i in test:\n",
    "    print(i)"
   ]
  },
  {
   "cell_type": "code",
   "execution_count": 96,
   "id": "bf0ea213",
   "metadata": {},
   "outputs": [
    {
     "name": "stdout",
     "output_type": "stream",
     "text": [
      "/\n",
      "None\n",
      "i: a\n",
      "Go up one\n",
      "i: e\n",
      "Go up one\n",
      "i: ..\n",
      "i: ..\n",
      "i: d\n",
      "Go up one\n"
     ]
    },
    {
     "data": {
      "text/plain": [
       "{'/': None}"
      ]
     },
     "execution_count": 96,
     "metadata": {},
     "output_type": "execute_result"
    }
   ],
   "source": [
    "name_dict = dict([(name_list[0], None)])\n",
    "cwd = name_list[0]\n",
    "\n",
    "print(cwd)\n",
    "print(name_dict[cwd])\n",
    "\n",
    "for i in name_list[1::]:\n",
    "    print(\"i:\", i)\n",
    "    if i != '..':\n",
    "        print('Go up one')\n",
    "        cwd = None\n",
    "    elif (i.find('cd')) > 0:\n",
    "        print(i)\n",
    "        cwd = None\n",
    "    elif cwd is not None:\n",
    "        name_dict[cwd] = i\n",
    "name_dict"
   ]
  },
  {
   "cell_type": "code",
   "execution_count": 81,
   "id": "bcb1c8a5",
   "metadata": {},
   "outputs": [
    {
     "data": {
      "text/plain": [
       "{'/': None}"
      ]
     },
     "execution_count": 81,
     "metadata": {},
     "output_type": "execute_result"
    }
   ],
   "source": [
    "dict([(name_list[0], None)])\n",
    "\n",
    "\n"
   ]
  },
  {
   "cell_type": "code",
   "execution_count": 34,
   "id": "896a4c51",
   "metadata": {},
   "outputs": [
    {
     "name": "stdout",
     "output_type": "stream",
     "text": [
      "$ cd /\n",
      "cd\n",
      "$ ls\n",
      "dir a\n",
      "14848514 b.txt\n",
      "8504156 c.dat\n",
      "dir d\n",
      "$ cd a\n",
      "cd\n",
      "$ ls\n",
      "dir e\n",
      "29116 f\n",
      "2557 g\n",
      "62596 h.lst\n",
      "$ cd e\n",
      "cd\n",
      "$ ls\n",
      "584 i\n",
      "$ cd ..\n",
      "cd\n",
      "$ cd ..\n",
      "cd\n",
      "$ cd d\n",
      "cd\n",
      "$ ls\n",
      "4060174 j\n",
      "8033020 d.log\n",
      "5626152 d.ext\n",
      "7214296 k\n",
      "\n"
     ]
    },
    {
     "data": {
      "text/plain": [
       "['$ ls',\n",
       " 'dir a',\n",
       " '14848514 b.txt',\n",
       " '8504156 c.dat',\n",
       " 'dir d',\n",
       " '$ ls',\n",
       " 'dir e',\n",
       " '29116 f',\n",
       " '2557 g',\n",
       " '62596 h.lst',\n",
       " '$ ls',\n",
       " '584 i',\n",
       " '$ ls',\n",
       " '4060174 j',\n",
       " '8033020 d.log',\n",
       " '5626152 d.ext',\n",
       " '7214296 k',\n",
       " '']"
      ]
     },
     "execution_count": 34,
     "metadata": {},
     "output_type": "execute_result"
    }
   ],
   "source": [
    "lst_nest = []\n",
    "for i in test:\n",
    "    print(i)\n",
    "    \n",
    "    if i.find('cd') > 0:\n",
    "        print('cd')\n",
    "    else:\n",
    "        lst_nest.append(i)\n",
    "        \n",
    "lst_nest"
   ]
  }
 ],
 "metadata": {
  "kernelspec": {
   "display_name": "Python 3",
   "language": "python",
   "name": "python3"
  },
  "language_info": {
   "codemirror_mode": {
    "name": "ipython",
    "version": 3
   },
   "file_extension": ".py",
   "mimetype": "text/x-python",
   "name": "python",
   "nbconvert_exporter": "python",
   "pygments_lexer": "ipython3",
   "version": "3.8.8"
  }
 },
 "nbformat": 4,
 "nbformat_minor": 5
}
