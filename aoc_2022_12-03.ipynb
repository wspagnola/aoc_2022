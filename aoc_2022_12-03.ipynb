{
 "cells": [
  {
   "cell_type": "code",
   "execution_count": 2,
   "id": "16ca9c63",
   "metadata": {},
   "outputs": [
    {
     "data": {
      "text/plain": [
       "['input_2022-12-03.txt', 'input_2022_12_02.txt', 'input_2022_12_01.txt']"
      ]
     },
     "execution_count": 2,
     "metadata": {},
     "output_type": "execute_result"
    }
   ],
   "source": [
    "import os \n",
    "os.listdir('data')"
   ]
  },
  {
   "cell_type": "code",
   "execution_count": 51,
   "id": "cb25f6a1",
   "metadata": {
    "scrolled": true
   },
   "outputs": [
    {
     "data": {
      "text/plain": [
       "[[{'B', 'J', 'L', 'Q', 'T', 'V', 'b', 'g', 'j', 'r'},\n",
       "  {'D', 'L', 'R', 'W', 'Z', 'c', 'n', 's', 'v', 'z'}],\n",
       " [{'C', 'G', 'N', 'P', 'd', 'f', 'h', 'l', 'm', 'q', 't'},\n",
       "  {'D', 'H', 'N', 'R', 'W', 'Z', 'b', 'c', 's', 'v', 'z'}],\n",
       " [{'C', 'f', 'm', 't', 'w'}, {'J', 'M', 'S', 'b', 'w'}],\n",
       " [{'H', 'M', 'P', 'Z', 'b', 'h', 'l', 'm', 'r', 's'},\n",
       "  {'D', 'F', 'L', 'M', 'Q', 'd', 'f', 'g', 'n'}],\n",
       " [{'B', 'C', 'G', 'c', 'j', 'p', 'q', 'r', 't', 'w'},\n",
       "  {'D', 'L', 'R', 'f', 'g', 'n', 'q'}],\n",
       " [{'B', 'C', 'G', 'J', 'S', 'V', 'c', 'p', 'r', 't', 'w'},\n",
       "  {'H', 'S', 'T', 'W', 'b', 'h', 'l', 'm', 's', 'v'}]]"
      ]
     },
     "execution_count": 51,
     "metadata": {},
     "output_type": "execute_result"
    }
   ],
   "source": [
    "with open('data/input_2022-12-03.txt') as f:\n",
    "    text = [x.strip() for x in f.readlines()]\n",
    "    \n",
    "\n",
    "sacks = []\n",
    "for t in text:\n",
    "    t_split = int(len(t) /2)\n",
    "    \n",
    "    sacks.append([set(t[0:t_split]), set(t[t_split::])])\n",
    "  #  print(t)\n",
    "  #  print(t[0:t_split])\n",
    "  #  print(t[t_split::])\n",
    "  #  print('\\n')\n",
    "    \n",
    "sacks[0:6]"
   ]
  },
  {
   "cell_type": "code",
   "execution_count": 58,
   "id": "38881daa",
   "metadata": {},
   "outputs": [
    {
     "data": {
      "text/plain": [
       "[['L'], ['N'], ['w'], ['M'], ['q']]"
      ]
     },
     "execution_count": 58,
     "metadata": {},
     "output_type": "execute_result"
    }
   ],
   "source": [
    "# print(sacks[0][0])\n",
    "# print(sacks[0][1])\n",
    "# set(sacks[0][0]).intersection(set(sacks[0][1]))\n",
    "\n",
    "common_items = [[elem for elem in item[0].intersection(item[1])] for item in sacks ]\n",
    "#print(common_items[0:6])\n",
    "\n",
    "common_items[0:5]"
   ]
  },
  {
   "cell_type": "code",
   "execution_count": 91,
   "id": "9fbe74c5",
   "metadata": {},
   "outputs": [
    {
     "ename": "TypeError",
     "evalue": "unhashable type: 'slice'",
     "output_type": "error",
     "traceback": [
      "\u001b[0;31m---------------------------------------------------------------------------\u001b[0m",
      "\u001b[0;31mTypeError\u001b[0m                                 Traceback (most recent call last)",
      "\u001b[0;32m<ipython-input-91-839d1b735b45>\u001b[0m in \u001b[0;36m<module>\u001b[0;34m\u001b[0m\n\u001b[1;32m      7\u001b[0m \u001b[0mdict_abc_upper\u001b[0m \u001b[0;34m=\u001b[0m \u001b[0mdict\u001b[0m\u001b[0;34m(\u001b[0m\u001b[0mzip\u001b[0m\u001b[0;34m(\u001b[0m\u001b[0mabc_upper\u001b[0m\u001b[0;34m,\u001b[0m \u001b[0mlist\u001b[0m\u001b[0;34m(\u001b[0m\u001b[0mrange\u001b[0m\u001b[0;34m(\u001b[0m\u001b[0;36m26\u001b[0m\u001b[0;34m+\u001b[0m\u001b[0;36m1\u001b[0m\u001b[0;34m,\u001b[0m \u001b[0;36m52\u001b[0m\u001b[0;34m+\u001b[0m\u001b[0;36m1\u001b[0m\u001b[0;34m)\u001b[0m\u001b[0;34m)\u001b[0m\u001b[0;34m)\u001b[0m\u001b[0;34m)\u001b[0m\u001b[0;34m\u001b[0m\u001b[0;34m\u001b[0m\u001b[0m\n\u001b[1;32m      8\u001b[0m \u001b[0mdict_priority\u001b[0m \u001b[0;34m=\u001b[0m \u001b[0;34m{\u001b[0m\u001b[0;34m**\u001b[0m\u001b[0mdict_abc_lower\u001b[0m\u001b[0;34m,\u001b[0m \u001b[0;34m**\u001b[0m\u001b[0mdict_abc_upper\u001b[0m\u001b[0;34m}\u001b[0m\u001b[0;34m\u001b[0m\u001b[0;34m\u001b[0m\u001b[0m\n\u001b[0;32m----> 9\u001b[0;31m \u001b[0mdict_priority\u001b[0m\u001b[0;34m[\u001b[0m\u001b[0;36m0\u001b[0m\u001b[0;34m:\u001b[0m\u001b[0;36m5\u001b[0m\u001b[0;34m]\u001b[0m\u001b[0;34m\u001b[0m\u001b[0;34m\u001b[0m\u001b[0m\n\u001b[0m",
      "\u001b[0;31mTypeError\u001b[0m: unhashable type: 'slice'"
     ]
    }
   ],
   "source": [
    "import string\n",
    "\n",
    "abc_lower = [letter for letter in string.ascii_lowercase ]\n",
    "abc_upper = [letter for letter in string.ascii_uppercase ]\n",
    "\n",
    "dict_abc_lower = dict(zip(abc_lower, list(range(1,26+1))))\n",
    "dict_abc_upper = dict(zip(abc_upper, list(range(26+1, 52+1))))\n",
    "dict_priority = {**dict_abc_lower, **dict_abc_upper}\n"
   ]
  },
  {
   "cell_type": "code",
   "execution_count": 123,
   "id": "fd6f51c8",
   "metadata": {},
   "outputs": [
    {
     "data": {
      "text/plain": [
       "8109"
      ]
     },
     "execution_count": 123,
     "metadata": {},
     "output_type": "execute_result"
    }
   ],
   "source": [
    "import numpy as np\n",
    "priority = [[dict_priority[val]for val in  l] for l in common_items]\n",
    "\n",
    "np.asarray(priority).sum()"
   ]
  },
  {
   "cell_type": "markdown",
   "id": "3ef098dd",
   "metadata": {},
   "source": [
    "## Part 2"
   ]
  },
  {
   "cell_type": "code",
   "execution_count": 156,
   "id": "4e8931b3",
   "metadata": {},
   "outputs": [
    {
     "data": {
      "text/plain": [
       "2738"
      ]
     },
     "execution_count": 156,
     "metadata": {},
     "output_type": "execute_result"
    }
   ],
   "source": [
    "with open('data/input_2022-12-03.txt') as f:\n",
    "    text = [x.strip() for x in f.readlines()]\n",
    "    \n",
    "#print(text)\n",
    "#len(text)\n",
    "sacks2 = []\n",
    "\n",
    "# Find intersection of every group of 3\n",
    "for i in range(0, len(text), 3):\n",
    "    \n",
    "    #print(text[i:i+3])\n",
    "    sacks2.append(set(text[i]) & set(text[i+1]) & set(text[i+2]))\n",
    "\n",
    "\n",
    "# convert from list of sets to list of lists \n",
    "common_items2 = [[x for x in y] for y in sacks2]\n",
    "\n",
    "# use dictionary to find the numeric value of each letter \n",
    "priority2 = [[dict_priority[val] for val in l ] for l in common_items2]\n",
    "\n",
    "# Convert to numpy array and sum to find the total value \n",
    "np.asarray(priority2).sum()"
   ]
  }
 ],
 "metadata": {
  "kernelspec": {
   "display_name": "Python 3",
   "language": "python",
   "name": "python3"
  },
  "language_info": {
   "codemirror_mode": {
    "name": "ipython",
    "version": 3
   },
   "file_extension": ".py",
   "mimetype": "text/x-python",
   "name": "python",
   "nbconvert_exporter": "python",
   "pygments_lexer": "ipython3",
   "version": "3.8.8"
  }
 },
 "nbformat": 4,
 "nbformat_minor": 5
}
